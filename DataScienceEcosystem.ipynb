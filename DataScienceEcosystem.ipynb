{
 "cells": [
  {
   "cell_type": "markdown",
   "metadata": {},
   "source": [
    "<center>\n",
    "    <img src=\"https://cf-courses-data.s3.us.cloud-object-storage.appdomain.cloud/IBMDeveloperSkillsNetwork-DS0105EN-SkillsNetwork/labs/Module2/images/SN_web_lightmode.png\" width=\"300\" alt=\"cognitiveclass.ai logo\">\n",
    "</center>\n"
   ]
  },
  {
   "cell_type": "markdown",
   "metadata": {},
   "source": [
    "# Data Science Tools and Ecosystem"
   ]
  },
  {
   "cell_type": "markdown",
   "metadata": {},
   "source": [
    "#### In this notebook, Data Science Tools and Ecosystem will be summarized, such as describing some coding languages and libraries, and even some basic operations "
   ]
  },
  {
   "cell_type": "markdown",
   "metadata": {},
   "source": [
    "**Objectives:**\n",
    "\n",
    "In this notebook, we will cover the following key concepts:\n",
    "\n",
    "- Learn how to perform basic arithmetic operations in Python.\n",
    "- Understand how to work with variables and take user input.\n",
    "- Explore and practice using development environments for Data Science.\n",
    "- Get familiar with common libraries and tools used in the Data Science ecosystem.\n",
    "- Learn how to evaluate and display results from arithmetic expressions."
   ]
  },
  {
   "cell_type": "markdown",
   "metadata": {},
   "source": [
    "#### Data Science relies on various programming languages to analyze and visualize data. Some of the most popular ones include:\n",
    "\n",
    "1. **Python** - Widely used for data analysis, machine learning, and visualization with libraries like Pandas, NumPy, and Scikit-learn.\n",
    "2. **R** - A statistical programming language commonly used for data visualization and analysis.\n",
    "3. **SQL** - Essential for querying and managing databases efficiently."
   ]
  },
  {
   "cell_type": "markdown",
   "metadata": {},
   "source": [
    "#### In Data Science, various libraries help with data manipulation, visualization, and machine learning. Here are four commonly used ones:\n",
    "\n",
    "1. **Pandas** - Used for data manipulation and analysis, providing DataFrames for handling structured data.\n",
    "2. **NumPy** - Supports numerical computing with powerful array operations.\n",
    "3. **Matplotlib** - A visualization library for creating static, animated, and interactive plots.\n",
    "4. **Scikit-learn** - A machine learning library that provides simple and efficient tools for data mining and analysis."
   ]
  },
  {
   "cell_type": "markdown",
   "metadata": {},
   "source": [
    "#### Data Science Tools\n",
    "\n",
    "Below is a table listing some popular open-source development environment tools used in Data Science:\n",
    "\n",
    "| Data Science Tools |\n",
    "|--------------------|\n",
    "| Jupyter Notebook  |\n",
    "| RStudio          |\n",
    "| Apache Zeppelin  |\n",
    "\n",
    " \n",
    " \n",
    " \n",
    " \n",
    " \n",
    " \n",
    " \n",
    " \n",
    " \n",
    " \n"
   ]
  },
  {
   "cell_type": "markdown",
   "metadata": {},
   "source": [
    "### How to use Arithmetic Expressions in Python\n",
    "\n",
    "\n",
    "Arithmetic expressions allow us to perform mathematical operations such as addition, subtraction, multiplication, and division. Python provides various operators to handle these operations efficiently.\n",
    "\n",
    "Here are some common arithmetic operations:\n",
    "\n",
    "```python\n",
    "# Examples of arithmetic expressions\n",
    "a = 10\n",
    "b = 5\n",
    "\n",
    "print(a + b)  # Addition\n",
    "print(a - b)  # Subtraction\n",
    "print(a * b)  # Multiplication\n",
    "print(a / b)  # Division\n",
    "print(a ** b) # Exponentiation"
   ]
  },
  {
   "cell_type": "markdown",
   "metadata": {},
   "source": [
    "#### First we create a code that allows us to add numbers or multiply them"
   ]
  },
  {
   "cell_type": "code",
   "execution_count": 10,
   "metadata": {},
   "outputs": [
    {
     "name": "stdout",
     "output_type": "stream",
     "text": [
      "The result of our operation is: 17\n"
     ]
    }
   ],
   "source": [
    "# We Define Numbers\n",
    "\n",
    "num1 = 3\n",
    "num2 = 4\n",
    "num3 = 5\n",
    "# Operations\n",
    "\n",
    "mult = num1 * num2\n",
    "sum = mult + num3\n",
    "# Show results\n",
    "print(f\"The result of our operation is: {sum}\")"
   ]
  },
  {
   "cell_type": "markdown",
   "metadata": {},
   "source": [
    "#### Then we proceed to some basic conversion of minutes to hours"
   ]
  },
  {
   "cell_type": "code",
   "execution_count": 11,
   "metadata": {},
   "outputs": [
    {
     "name": "stdout",
     "output_type": "stream",
     "text": [
      "200 minutes equal to 3.33 hours\n"
     ]
    }
   ],
   "source": [
    "# Define our minutes \n",
    "minutes = 200\n",
    "\n",
    "# Convert minutes to hours\n",
    "hours = minutes / 60\n",
    "\n",
    "# Show result\n",
    "print(f\"{minutes} minutes equal to {hours:.2f} hours\")"
   ]
  },
  {
   "cell_type": "markdown",
   "metadata": {},
   "source": [
    "## Author \n",
    "Sebastián López Valdivia"
   ]
  }
 ],
 "metadata": {
  "kernelspec": {
   "display_name": "Python 3 (ipykernel)",
   "language": "python",
   "name": "python3"
  },
  "language_info": {
   "codemirror_mode": {
    "name": "ipython",
    "version": 3
   },
   "file_extension": ".py",
   "mimetype": "text/x-python",
   "name": "python",
   "nbconvert_exporter": "python",
   "pygments_lexer": "ipython3",
   "version": "3.12.8"
  }
 },
 "nbformat": 4,
 "nbformat_minor": 4
}
